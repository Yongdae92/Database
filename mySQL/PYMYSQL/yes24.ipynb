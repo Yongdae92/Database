{
 "cells": [
  {
   "cell_type": "markdown",
   "metadata": {},
   "source": [
    "### YES24 Crawling"
   ]
  },
  {
   "cell_type": "code",
   "execution_count": 1,
   "metadata": {},
   "outputs": [
    {
     "data": {
      "text/plain": [
       "'C:\\\\Users\\\\PC\\\\.wdm\\\\drivers\\\\chromedriver\\\\win64\\\\120.0.6099.109\\\\chromedriver-win32/chromedriver.exe'"
      ]
     },
     "execution_count": 1,
     "metadata": {},
     "output_type": "execute_result"
    }
   ],
   "source": [
    "# webdriver-manager 라이브러리 불러오기\n",
    "from webdriver_manager.chrome import ChromeDriverManager\n",
    "ChromeDriverManager().install()"
   ]
  },
  {
   "cell_type": "code",
   "execution_count": 2,
   "metadata": {},
   "outputs": [],
   "source": [
    "from selenium import webdriver\n",
    "browser = webdriver.Chrome()"
   ]
  },
  {
   "cell_type": "code",
   "execution_count": 3,
   "metadata": {},
   "outputs": [],
   "source": [
    "url = 'https://google.com'\n",
    "browser.get(url)"
   ]
  },
  {
   "cell_type": "code",
   "execution_count": 4,
   "metadata": {},
   "outputs": [
    {
     "data": {
      "text/plain": [
       "'대한민국'"
      ]
     },
     "execution_count": 4,
     "metadata": {},
     "output_type": "execute_result"
    }
   ],
   "source": [
    "from selenium.webdriver.common.by import By\n",
    "browser.find_element(By.CLASS_NAME, 'uU7dJb').text\n",
    "# <div class=\"uU7dJb\">대한민국</div>"
   ]
  },
  {
   "cell_type": "code",
   "execution_count": 5,
   "metadata": {},
   "outputs": [],
   "source": [
    "url = 'https://www.yes24.com/Product/category/bestseller?CategoryNumber=001&sumgb=06'\n",
    "browser.get(url)"
   ]
  },
  {
   "cell_type": "code",
   "execution_count": 6,
   "metadata": {},
   "outputs": [
    {
     "name": "stdout",
     "output_type": "stream",
     "text": [
      "https://www.yes24.com/Product/Goods/122120495\n",
      "https://www.yes24.com/Product/Goods/123675187\n",
      "https://www.yes24.com/Product/Goods/117014613\n",
      "https://www.yes24.com/Product/Goods/124043812\n",
      "https://www.yes24.com/Product/Goods/124043802\n",
      "https://www.yes24.com/Product/Goods/122090360\n",
      "https://www.yes24.com/Product/Goods/123400303\n",
      "https://www.yes24.com/Product/Goods/122944685\n",
      "https://www.yes24.com/Product/Goods/124702623\n",
      "https://www.yes24.com/Product/Goods/124112599\n",
      "https://www.yes24.com/Product/Goods/118579613\n",
      "https://www.yes24.com/Product/Goods/124574394\n",
      "https://www.yes24.com/Product/Goods/124501342\n",
      "https://www.yes24.com/Product/Goods/124539805\n",
      "https://www.yes24.com/Product/Goods/119562091\n",
      "https://www.yes24.com/Product/Goods/124408170\n",
      "https://www.yes24.com/Product/Goods/122428190\n",
      "https://www.yes24.com/Product/Goods/119458052\n",
      "https://www.yes24.com/Product/Goods/118413014\n",
      "https://www.yes24.com/Product/Goods/123930891\n",
      "https://www.yes24.com/Product/Goods/124707232\n",
      "https://www.yes24.com/Product/Goods/122426425\n",
      "https://www.yes24.com/Product/Goods/123930880\n",
      "https://www.yes24.com/Product/Goods/79297023\n"
     ]
    }
   ],
   "source": [
    "# 1 페이지의 링크 데이터 전부 수집\n",
    "### 한 개의 베스트 셀러 링크 데이터 수집\n",
    "browser.find_element(By.CLASS_NAME, 'gd_name').get_attribute('href')\n",
    "\n",
    "### 1 페이지 전체의 링크 데이터 수집\n",
    "datas = browser.find_elements(By.CLASS_NAME, 'gd_name')\n",
    "\n",
    "for i in datas :\n",
    "    print(i.get_attribute('href'))"
   ]
  },
  {
   "cell_type": "code",
   "execution_count": 7,
   "metadata": {},
   "outputs": [
    {
     "name": "stdout",
     "output_type": "stream",
     "text": [
      "https://www.yes24.com/Product/Category/BestSeller?categoryNumber=001&pageNumber=1&pageSize=24\n",
      "https://www.yes24.com/Product/Category/BestSeller?categoryNumber=001&pageNumber=2&pageSize=24\n",
      "https://www.yes24.com/Product/Category/BestSeller?categoryNumber=001&pageNumber=3&pageSize=24\n"
     ]
    }
   ],
   "source": [
    "# 각 페이지 url에서 pageNumber가 바뀌는 걸 확인할 수 있다.\n",
    "for i in range(1, 4) :\n",
    "    url = f'https://www.yes24.com/Product/Category/BestSeller?categoryNumber=001&pageNumber={i}&pageSize=24'\n",
    "    print(url)"
   ]
  },
  {
   "cell_type": "code",
   "execution_count": 8,
   "metadata": {},
   "outputs": [
    {
     "name": "stdout",
     "output_type": "stream",
     "text": [
      "********** 현재 1 페이지 수집 중입니다. **********\n"
     ]
    },
    {
     "name": "stdout",
     "output_type": "stream",
     "text": [
      "********** 현재 2 페이지 수집 중입니다. **********\n",
      "********** 현재 3 페이지 수집 중입니다. **********\n",
      "['https://www.yes24.com/Product/Goods/122120495', 'https://www.yes24.com/Product/Goods/123675187', 'https://www.yes24.com/Product/Goods/117014613', 'https://www.yes24.com/Product/Goods/124043812', 'https://www.yes24.com/Product/Goods/124043802', 'https://www.yes24.com/Product/Goods/122090360', 'https://www.yes24.com/Product/Goods/123400303', 'https://www.yes24.com/Product/Goods/122944685', 'https://www.yes24.com/Product/Goods/124702623', 'https://www.yes24.com/Product/Goods/124112599', 'https://www.yes24.com/Product/Goods/118579613', 'https://www.yes24.com/Product/Goods/124574394', 'https://www.yes24.com/Product/Goods/124501342', 'https://www.yes24.com/Product/Goods/124539805', 'https://www.yes24.com/Product/Goods/119562091', 'https://www.yes24.com/Product/Goods/124408170', 'https://www.yes24.com/Product/Goods/122428190', 'https://www.yes24.com/Product/Goods/119458052', 'https://www.yes24.com/Product/Goods/118413014', 'https://www.yes24.com/Product/Goods/123930891', 'https://www.yes24.com/Product/Goods/124707232', 'https://www.yes24.com/Product/Goods/122426425', 'https://www.yes24.com/Product/Goods/123930880', 'https://www.yes24.com/Product/Goods/79297023', 'https://www.yes24.com/Product/Goods/124719615', 'https://www.yes24.com/Product/Goods/119120517', 'https://www.yes24.com/Product/Goods/124397623', 'https://www.yes24.com/Product/Goods/123318244', 'https://www.yes24.com/Product/Goods/122880691', 'https://www.yes24.com/Product/Goods/124472824', 'https://www.yes24.com/Product/Goods/124347651', 'https://www.yes24.com/Product/Goods/118569079', 'https://www.yes24.com/Product/Goods/124733569', 'https://www.yes24.com/Product/Goods/67362730', 'https://www.yes24.com/Product/Goods/8759796', 'https://www.yes24.com/Product/Goods/124717965', 'https://www.yes24.com/Product/Goods/124645703', 'https://www.yes24.com/Product/Goods/124127709', 'https://www.yes24.com/Product/Goods/116467955', 'https://www.yes24.com/Product/Goods/124702605', 'https://www.yes24.com/Product/Goods/114853233', 'https://www.yes24.com/Product/Goods/122433629', 'https://www.yes24.com/Product/Goods/79208821', 'https://www.yes24.com/Product/Goods/124027690', 'https://www.yes24.com/Product/Goods/9349031', 'https://www.yes24.com/Product/Goods/124184330', 'https://www.yes24.com/Product/Goods/124157362', 'https://www.yes24.com/Product/Goods/90428162', 'https://www.yes24.com/Product/Goods/124702004', 'https://www.yes24.com/Product/Goods/124702295', 'https://www.yes24.com/Product/Goods/120785860', 'https://www.yes24.com/Product/Goods/91868954', 'https://www.yes24.com/Product/Goods/120761010', 'https://www.yes24.com/Product/Goods/118578901', 'https://www.yes24.com/Product/Goods/124518483', 'https://www.yes24.com/Product/Goods/124014108', 'https://www.yes24.com/Product/Goods/124106975', 'https://www.yes24.com/Product/Goods/123676271', 'https://www.yes24.com/Product/Goods/124219505', 'https://www.yes24.com/Product/Goods/123623040', 'https://www.yes24.com/Product/Goods/124644662', 'https://www.yes24.com/Product/Goods/123623043', 'https://www.yes24.com/Product/Goods/124315515', 'https://www.yes24.com/Product/Goods/124315134', 'https://www.yes24.com/Product/Goods/124219508', 'https://www.yes24.com/Product/Goods/96072143', 'https://www.yes24.com/Product/Goods/106369008', 'https://www.yes24.com/Product/Goods/124300539', 'https://www.yes24.com/Product/Goods/124339743', 'https://www.yes24.com/Product/Goods/124393292', 'https://www.yes24.com/Product/Goods/123876440', 'https://www.yes24.com/Product/Goods/121911671']\n"
     ]
    }
   ],
   "source": [
    "# 3페이지까지의 링크 데이터 전부 수집\n",
    "import time\n",
    "\n",
    "link_list = []\n",
    "for i in range(1, 4) :\n",
    "    print(\"*\" * 10, f\"현재 {i} 페이지 수집 중입니다.\", \"*\" * 10)\n",
    "    url = f'https://www.yes24.com/Product/Category/BestSeller?categoryNumber=001&pageNumber={i}&pageSize=24'\n",
    "    browser.get(url)\n",
    "    \n",
    "    browser.find_element(By.CLASS_NAME, 'gd_name').get_attribute('href')\n",
    "    datas = browser.find_elements(By.CLASS_NAME, 'gd_name')\n",
    "\n",
    "    for i in datas :\n",
    "        link = i.get_attribute('href')\n",
    "        link_list.append(link)\n",
    "\n",
    "    time.sleep(3)\n",
    "\n",
    "print(link_list)"
   ]
  },
  {
   "cell_type": "code",
   "execution_count": 9,
   "metadata": {},
   "outputs": [
    {
     "data": {
      "text/plain": [
       "72"
      ]
     },
     "execution_count": 9,
     "metadata": {},
     "output_type": "execute_result"
    }
   ],
   "source": [
    "len(link_list)"
   ]
  },
  {
   "cell_type": "code",
   "execution_count": 10,
   "metadata": {},
   "outputs": [
    {
     "data": {
      "text/plain": [
       "('마흔에 읽는 쇼펜하우어',\n",
       " '강용수 저',\n",
       " '유노북스',\n",
       " '2023년 09월 07일',\n",
       " '9.0',\n",
       " '회원리뷰(277건)',\n",
       " '897,429',\n",
       " '17,000',\n",
       " '1',\n",
       " '9')"
      ]
     },
     "execution_count": 10,
     "metadata": {},
     "output_type": "execute_result"
    }
   ],
   "source": [
    "# 데이터 한개로 시범 운영 및 데이터 타입 맞춰주기\n",
    "browser.get(link_list[0])\n",
    "\n",
    "title = browser.find_element(By.CLASS_NAME, 'gd_name').text\n",
    "author = browser.find_element(By.CLASS_NAME, 'gd_auth').text\n",
    "publisher = browser.find_element(By.CLASS_NAME, 'gd_pub').text\n",
    "publishing = browser.find_element(By.CLASS_NAME, 'gd_date').text\n",
    "rating = browser.find_element(By.CLASS_NAME, 'yes_b').text\n",
    "\n",
    "review = browser.find_element(By.CLASS_NAME, 'gd_reviewCount').text\n",
    "\n",
    "sales = browser.find_element(By.CLASS_NAME, 'gd_sellNum').text.split(\" \")[2]    # 숫자만 가져오기\n",
    "price = browser.find_element(By.CLASS_NAME, 'yes_m').text[:-1]  #'원' 제거\n",
    "ranking = browser.find_element(By.CLASS_NAME, 'gd_best').text.split(\" | \")[0].split(\" \")[2][:-1]\n",
    "ranking_weeks = browser.find_element(By.CLASS_NAME, 'gd_best').text.split(\" | \")[1].split(\" \")[2][:-1]\n",
    "\n",
    "title, author, publisher, publishing, rating, review, sales, price, ranking, ranking_weeks"
   ]
  },
  {
   "cell_type": "code",
   "execution_count": 11,
   "metadata": {},
   "outputs": [
    {
     "data": {
      "text/plain": [
       "\"국내도서 1위 9주'\""
      ]
     },
     "execution_count": 11,
     "metadata": {},
     "output_type": "execute_result"
    }
   ],
   "source": [
    "# text.split 참고 -1\n",
    "text = \"'| 판매지수 897,429 판매지수란?'\"\n",
    "text.split(\" \")[2]\n",
    "# text.split 참고 -2\n",
    "text = \"'베스트 국내도서 1위 | 국내도서 1위 9주'\"\n",
    "text.split(\" | \")[0]\n",
    "text.split(\" | \")[1]"
   ]
  },
  {
   "cell_type": "code",
   "execution_count": 12,
   "metadata": {},
   "outputs": [],
   "source": [
    "# 상세 페이지 이동 후 데이터 크롤링\n",
    "# 데이터 베이스 연동 후 → 수집한 데이터 DB에 저장 (scv)\n",
    "import pymysql\n",
    "import time\n",
    "import re\n",
    "from datetime import datetime\n",
    "\n",
    "conn = pymysql.connect(\n",
    "    host='localhost',\n",
    "    user='root',\n",
    "    password='2399',\n",
    "    db='yes24',\n",
    "    charset='utf8mb4',\n",
    "    cursorclass=pymysql.cursors.DictCursor\n",
    ")\n",
    "\n",
    "with conn.cursor() as cur :\n",
    "    for link in link_list :\n",
    "        browser.get(link)\n",
    "\n",
    "        title = browser.find_element(By.CLASS_NAME, 'gd_name').text\n",
    "        author = browser.find_element(By.CLASS_NAME, 'gd_auth').text\n",
    "        publisher = browser.find_element(By.CLASS_NAME, 'gd_pub').text\n",
    "        \n",
    "        # 2023년 09월 07일 → 2023-09-07\n",
    "        publishing = browser.find_element(By.CLASS_NAME, 'gd_date').text\n",
    "        match = re.search(r'(\\d+)년 (\\d+)월 (\\d+)일', publishing)\n",
    "        if match :\n",
    "            year, month, day = match.groups()\n",
    "            date_obj = datetime(int(year), int(month), int(day))\n",
    "            publishing = date_obj.strftime('%Y-%m-%d')\n",
    "        else :\n",
    "            publishing = '2023-01-01'\n",
    "\n",
    "        rating = browser.find_element(By.CLASS_NAME, 'yes_b').text\n",
    "        if rating == '' :\n",
    "            rating = 0\n",
    "\n",
    "        review = browser.find_element(By.CLASS_NAME, 'gd_reviewCount').text\n",
    "        if len(review) == 15 :  # '첫번째 리뷰어가 되어주세요.' 글자수\n",
    "            review = 0\n",
    "        else :\n",
    "            review = review.split(\"(\")[1][:-2]\n",
    "            review = int(review.replace(\",\",\"\"))\n",
    "            \n",
    "            \n",
    "\n",
    "        sales = browser.find_element(By.CLASS_NAME, 'gd_sellNum').text.split(\" \")[2]\n",
    "        sales = int(sales.replace(\",\",\"\"))\n",
    "\n",
    "        price = browser.find_element(By.CLASS_NAME, 'yes_m').text[:-1]\n",
    "        price = int(price.replace(\",\",\"\"))\n",
    "\n",
    "        full_text = browser.find_element(By.CLASS_NAME, 'gd_best').text\n",
    "        parts = full_text.split(\" | \")\n",
    "        if len(parts) == 1 :\n",
    "            ranking, ranking_weeks = 0, 0\n",
    "        # ranking\n",
    "        try :\n",
    "            ranking_parts = parts[0]\n",
    "            ranking = ''.join(filter(str.isdigit, ranking_parts))   # 문자열에서 숫자만 추출.\n",
    "        except :\n",
    "            ranking = 0\n",
    "        \n",
    "        #ranking_weeks\n",
    "        try :\n",
    "            ranking_weeks_parts = parts[1]\n",
    "            ranking_weeks = ''.join(filter(str.isdigit, ranking_weeks_parts.split()[-1]))   # 문자열에서 마지막 숫자만 추출.\n",
    "        except :\n",
    "            ranking_weeks = 0\n",
    "\n",
    "        sql = \"\"\"\n",
    "        INSERT INTO books\n",
    "        (title, author, publisher, publishing, rating, review, sales, price, ranking, ranking_weeks) \n",
    "        VALUES \n",
    "        (%s, %s, %s, %s, %s, %s, %s, %s, %s, %s)\n",
    "        \"\"\"\n",
    "\n",
    "        cur.execute(sql, (title, author, publisher, publishing, rating, review, sales, price, ranking, ranking_weeks))\n",
    "        conn.commit()\n",
    "\n",
    "        time.sleep(2)"
   ]
  },
  {
   "cell_type": "code",
   "execution_count": null,
   "metadata": {},
   "outputs": [],
   "source": []
  }
 ],
 "metadata": {
  "kernelspec": {
   "display_name": ".venv",
   "language": "python",
   "name": "python3"
  },
  "language_info": {
   "codemirror_mode": {
    "name": "ipython",
    "version": 3
   },
   "file_extension": ".py",
   "mimetype": "text/x-python",
   "name": "python",
   "nbconvert_exporter": "python",
   "pygments_lexer": "ipython3",
   "version": "3.12.1"
  }
 },
 "nbformat": 4,
 "nbformat_minor": 2
}
